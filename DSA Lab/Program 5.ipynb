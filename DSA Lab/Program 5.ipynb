{
 "cells": [
  {
   "cell_type": "code",
   "execution_count": 6,
   "id": "1e477642",
   "metadata": {},
   "outputs": [
    {
     "name": "stdout",
     "output_type": "stream",
     "text": [
      "Best classification accuracy: 0.97\n",
      "Total number of support vectors: 86\n"
     ]
    }
   ],
   "source": [
    "from sklearn.datasets import load_iris\n",
    "from sklearn.model_selection import train_test_split\n",
    "from sklearn.preprocessing import StandardScaler\n",
    "from sklearn.svm import SVC\n",
    "from sklearn.metrics import accuracy_score\n",
    "\n",
    "iris = load_iris()\n",
    "X = iris.data\n",
    "y = iris.target\n",
    "\n",
    "X_train, X_test, y_train, y_test = train_test_split(X, y, test_size=0.2, random_state=53)\n",
    "\n",
    "C_values = [ 1, 10, 100]\n",
    "gamma_values = [0.001]\n",
    "kernel_types = ['rbf']\n",
    "best_accuracy = 0\n",
    "best_model = None\n",
    "best_support_vectors = None\n",
    "for kernel in kernel_types:\n",
    "    for C in C_values:\n",
    "        for gamma in gamma_values:\n",
    "            svm = SVC(kernel=kernel, C=C, gamma=gamma, decision_function_shape='ovr')\n",
    "            svm.fit(X_train, y_train)\n",
    "            y_pred = svm.predict(X_test)\n",
    "            accuracy = accuracy_score(y_test, y_pred)\n",
    "            if accuracy > best_accuracy:\n",
    "                best_accuracy = accuracy\n",
    "                best_model = svm\n",
    "                best_support_vectors = len(svm.support_)\n",
    "                \n",
    "print(f\"Best classification accuracy: {best_accuracy:.2f}\")\n",
    "print(f\"Total number of support vectors: {best_support_vectors}\")"
   ]
  },
  {
   "cell_type": "code",
   "execution_count": null,
   "id": "830300eb",
   "metadata": {},
   "outputs": [],
   "source": []
  },
  {
   "cell_type": "code",
   "execution_count": null,
   "id": "7bbbc3f8",
   "metadata": {},
   "outputs": [],
   "source": []
  }
 ],
 "metadata": {
  "kernelspec": {
   "display_name": "Python 3 (ipykernel)",
   "language": "python",
   "name": "python3"
  },
  "language_info": {
   "codemirror_mode": {
    "name": "ipython",
    "version": 3
   },
   "file_extension": ".py",
   "mimetype": "text/x-python",
   "name": "python",
   "nbconvert_exporter": "python",
   "pygments_lexer": "ipython3",
   "version": "3.11.3"
  }
 },
 "nbformat": 4,
 "nbformat_minor": 5
}
