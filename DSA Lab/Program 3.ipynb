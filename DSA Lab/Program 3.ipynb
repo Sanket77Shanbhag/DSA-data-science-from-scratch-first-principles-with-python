{
 "cells": [
  {
   "cell_type": "code",
   "execution_count": 2,
   "id": "16f1926f",
   "metadata": {},
   "outputs": [
    {
     "name": "stdout",
     "output_type": "stream",
     "text": [
      "           Place of Publication Date of Publication              Publisher  \\\n",
      "Identifier                                                                   \n",
      "206                      London                1879       S. Tinsley & Co.   \n",
      "216                      London                1868           Virtue & Co.   \n",
      "218                      London                1869  Bradbury, Evans & Co.   \n",
      "472                      London                1851          James Darling   \n",
      "480                      London                1857   Wertheim & Macintosh   \n",
      "\n",
      "                                                        Title     Author  \\\n",
      "Identifier                                                                 \n",
      "206                         Walter Forbes. [A novel.] By A. A      A. A.   \n",
      "216         All for Greed. [A novel. The dedication signed...  A., A. A.   \n",
      "218         Love the Avenger. By the author of “All for Gr...  A., A. A.   \n",
      "472         Welsh Sketches, chiefly ecclesiastical, to the...  A., E. S.   \n",
      "480         [The World in which I live, and my place in it...  A., E. S.   \n",
      "\n",
      "                                                   Flickr URL  \n",
      "Identifier                                                     \n",
      "206         http://www.flickr.com/photos/britishlibrary/ta...  \n",
      "216         http://www.flickr.com/photos/britishlibrary/ta...  \n",
      "218         http://www.flickr.com/photos/britishlibrary/ta...  \n",
      "472         http://www.flickr.com/photos/britishlibrary/ta...  \n",
      "480         http://www.flickr.com/photos/britishlibrary/ta...  \n"
     ]
    }
   ],
   "source": [
    "import pandas as pd\n",
    "import numpy as np\n",
    "\n",
    "books_df = pd.read_csv(\"BL-Flickr-Images-Book.csv\")\n",
    "\n",
    "irrelevant_columns = ['Edition Statement', 'Corporate Author', 'Corporate Contributors', 'Former owner', 'Engraver', 'Contributors', 'Issuance type', 'Shelfmarks']\n",
    "books_df.drop(columns=irrelevant_columns, inplace=True)\n",
    "\n",
    "books_df.set_index('Identifier', inplace=True)\n",
    "\n",
    "books_df['Date of Publication'] = books_df['Date of Publication'].str.extract(r'^(\\d{4})', expand=False)\n",
    "\n",
    "books_df['Place of Publication'] = np.where(books_df['Place of Publication'].str.contains('London'), 'London', books_df['Place of Publication'])\n",
    "\n",
    "print(books_df.head())"
   ]
  },
  {
   "cell_type": "code",
   "execution_count": null,
   "id": "c032e3e1",
   "metadata": {},
   "outputs": [],
   "source": []
  }
 ],
 "metadata": {
  "kernelspec": {
   "display_name": "Python 3 (ipykernel)",
   "language": "python",
   "name": "python3"
  },
  "language_info": {
   "codemirror_mode": {
    "name": "ipython",
    "version": 3
   },
   "file_extension": ".py",
   "mimetype": "text/x-python",
   "name": "python",
   "nbconvert_exporter": "python",
   "pygments_lexer": "ipython3",
   "version": "3.11.3"
  }
 },
 "nbformat": 4,
 "nbformat_minor": 5
}
